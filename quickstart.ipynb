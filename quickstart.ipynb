{
 "cells": [
  {
   "cell_type": "code",
   "execution_count": 17,
   "metadata": {},
   "outputs": [
    {
     "name": "stdout",
     "output_type": "stream",
     "text": [
      "IoU:  0.5001444913903061\n",
      "Precision:  0.5001444913903061\n",
      "Recall:  0.4994970690132209\n",
      "Pointing Game:  0.375\n"
     ]
    }
   ],
   "source": [
    "import numpy as np\n",
    "import xaibenchmark\n",
    "\n",
    "# Generate random explanation maps and ground truths\n",
    "num_samples, image_height, image_width = 16, 224, 224\n",
    "maps = np.random.rand(num_samples, image_height, image_width)\n",
    "gts = np.random.randint(0, 2, (num_samples, image_height, image_width))\n",
    "\n",
    "iou_value = xaibenchmark.iou(maps, gts)\n",
    "precision_value = xaibenchmark.precision(maps, gts)\n",
    "recall_value = xaibenchmark.recall(maps, gts)\n",
    "pointing_game = xaibenchmark.hit(maps, gts)\n",
    "\n",
    "print(\"IoU: \", iou_value)\n",
    "print(\"Precision: \", precision_value)\n",
    "print(\"Recall: \", recall_value)\n",
    "print(\"Pointing Game: \", pointing_game)"
   ]
  },
  {
   "cell_type": "code",
   "execution_count": 19,
   "metadata": {},
   "outputs": [
    {
     "name": "stdout",
     "output_type": "stream",
     "text": [
      "Loading data...\n",
      "Splitting dataset...\n",
      "Creating dataloaders...\n",
      "Data loading complete.\n",
      "Show output size:\n",
      "torch.Size([32, 3, 224, 224])\n",
      "torch.Size([32, 224, 224])\n",
      "torch.Size([32])\n"
     ]
    }
   ],
   "source": [
    "import xaibenchmark\n",
    "\n",
    "dataset = \"pascal\"\n",
    "class_list = \"aeroplane,bicycle,boat,bus\"\n",
    "    \n",
    "train_dataloader, val_dataloader, test_dataloader = xaibenchmark.loading(dataset, class_list)\n",
    "\n",
    "print(\"Show output size:\")\n",
    "for batch_id, (images, attentions, class_ids) in enumerate(train_dataloader):\n",
    "    print(images.shape)\n",
    "    print(attentions.shape)\n",
    "    print(class_ids.shape)\n",
    "    break"
   ]
  }
 ],
 "metadata": {
  "kernelspec": {
   "display_name": "base",
   "language": "python",
   "name": "python3"
  },
  "language_info": {
   "codemirror_mode": {
    "name": "ipython",
    "version": 3
   },
   "file_extension": ".py",
   "mimetype": "text/x-python",
   "name": "python",
   "nbconvert_exporter": "python",
   "pygments_lexer": "ipython3",
   "version": "3.9.12"
  },
  "orig_nbformat": 4
 },
 "nbformat": 4,
 "nbformat_minor": 2
}
